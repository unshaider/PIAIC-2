{
  "nbformat": 4,
  "nbformat_minor": 0,
  "metadata": {
    "colab": {
      "provenance": [],
      "authorship_tag": "ABX9TyMForSwoBZXD4BcUs5YptLS",
      "include_colab_link": true
    },
    "kernelspec": {
      "name": "python3",
      "display_name": "Python 3"
    },
    "language_info": {
      "name": "python"
    }
  },
  "cells": [
    {
      "cell_type": "markdown",
      "metadata": {
        "id": "view-in-github",
        "colab_type": "text"
      },
      "source": [
        "<a href=\"https://colab.research.google.com/github/unshaider/PIAIC-2/blob/main/PIAIC_2.ipynb\" target=\"_parent\"><img src=\"https://colab.research.google.com/assets/colab-badge.svg\" alt=\"Open In Colab\"/></a>"
      ]
    },
    {
      "cell_type": "markdown",
      "source": [
        "# **Asignment 1**"
      ],
      "metadata": {
        "id": "qdmjyRkatDaI"
      }
    },
    {
      "cell_type": "code",
      "source": [
        "# Asignment 1\n",
        "\n",
        "name = \"Ahsan\"\n",
        "\n",
        "print(\n",
        "f'''Dear {name},\n",
        "\n",
        "You got a free coupon code: 12345\n",
        "\n",
        "Best Regards,\n",
        "Uns Haider\n",
        "'''\n",
        ")"
      ],
      "metadata": {
        "colab": {
          "base_uri": "https://localhost:8080/"
        },
        "id": "MLCG6P1JG6lp",
        "outputId": "33fbdd3f-93f2-4501-8147-493472457b8d"
      },
      "execution_count": 4,
      "outputs": [
        {
          "output_type": "stream",
          "name": "stdout",
          "text": [
            "Dear Ahsan,\n",
            "\n",
            "You got a free coupon code: 12345\n",
            "\n",
            "Best Regards,\n",
            "Uns Haider\n",
            "\n"
          ]
        }
      ]
    },
    {
      "cell_type": "markdown",
      "source": [
        "# **Asignment 2**\n",
        "Chand Taara Khan is hosting a Rabri (desert) party at his institute. He needs your help to calculate the total number of people attending the event and the total amount of Rabri (in grams & kg) he needs to prepare.\n",
        "\n",
        "- There are 12 faculty members.\n",
        "- There are 4 administrative staff members.\n",
        "- There are 100 students in institute.\n",
        "- There are 15 people absent.\n",
        "- Per person Rabri is 250g."
      ],
      "metadata": {
        "id": "5Xgagtepsp4o"
      }
    },
    {
      "cell_type": "code",
      "source": [
        "# Asignment 2\n",
        "\n",
        "faculty = 12\n",
        "admin = 4\n",
        "students = 100\n",
        "absent = 15\n",
        "\n",
        "total_people = faculty + admin + students\n",
        "present_people = total_people - absent\n",
        "rabri_per_person_grams = 250\n",
        "total_rabri_grams = present_people * rabri_per_person_grams\n",
        "total_rabri_kg = total_rabri_grams //  1000\n",
        "\n",
        "print(f\"Total people attending the party: {present_people} peoples\")\n",
        "print(f\"Total Rabri needed (grams): {total_rabri_grams}g\")\n",
        "print(f\"Total Rabri needed (kg): {total_rabri_kg}kg\")"
      ],
      "metadata": {
        "colab": {
          "base_uri": "https://localhost:8080/"
        },
        "id": "j33Vx5wXfN8s",
        "outputId": "c26dd06f-48f8-45d6-e692-247b1677776d"
      },
      "execution_count": 2,
      "outputs": [
        {
          "output_type": "stream",
          "name": "stdout",
          "text": [
            "Total people attending the party: 101 peoples\n",
            "Total Rabri needed (grams): 25250g\n",
            "Total Rabri needed (kg): 25kg\n"
          ]
        }
      ]
    }
  ]
}